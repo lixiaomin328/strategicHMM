{
 "cells": [
  {
   "cell_type": "code",
   "execution_count": 1,
   "id": "arranged-wrestling",
   "metadata": {},
   "outputs": [
    {
     "data": {
      "text/plain": [
       "'/Users/xiaominli/Documents/strategicHMM'"
      ]
     },
     "execution_count": 1,
     "metadata": {},
     "output_type": "execute_result"
    }
   ],
   "source": [
    "pwd"
   ]
  },
  {
   "cell_type": "code",
   "execution_count": 2,
   "id": "listed-advantage",
   "metadata": {},
   "outputs": [],
   "source": [
    "import os"
   ]
  },
  {
   "cell_type": "code",
   "execution_count": 36,
   "id": "blessed-plumbing",
   "metadata": {},
   "outputs": [],
   "source": [
    "allUsers = os.listdir('/Volumes/My Passport/sa1/fixation')\n",
    "count = 0\n",
    "for userName in allUsers:\n",
    "    if userName =='.DS_Store':\n",
    "        continue\n",
    "    b = os.listdir('/Volumes/My Passport/sa1/fixation/'+userName)\n",
    "    for subFile in b:       \n",
    "        oldFileName = '/Volumes/My Passport/sa1/fixation/'+userName+'/'+subFile\n",
    "        allParts = subFile.split('_')\n",
    "        allParts.pop(0)\n",
    "        newName= userName + '_'+'_'.join(allParts)\n",
    "        newFileName = '/Volumes/My Passport/sa1/fixation/'+userName+'/'+newName\n",
    "        os.rename(oldFileName,newFileName)"
   ]
  },
  {
   "cell_type": "code",
   "execution_count": 7,
   "id": "spoken-summer",
   "metadata": {},
   "outputs": [
    {
     "data": {
      "text/plain": [
       "'20'"
      ]
     },
     "execution_count": 7,
     "metadata": {},
     "output_type": "execute_result"
    }
   ],
   "source": [
    "userName"
   ]
  },
  {
   "cell_type": "code",
   "execution_count": 26,
   "id": "exterior-pepper",
   "metadata": {},
   "outputs": [],
   "source": [
    "\n",
    "b = os.listdir('/Users/xiaominli/Documents/strategicHMM/gaze_data/'+userName)\n",
    "b[0]\n",
    "oldFileName = '/Users/xiaominli/Documents/strategicHMM/gaze_data/'+userName+'/'+b[0]"
   ]
  },
  {
   "cell_type": "code",
   "execution_count": 12,
   "id": "disturbed-routine",
   "metadata": {},
   "outputs": [
    {
     "data": {
      "text/plain": [
       "'/Users/xiaominli/Documents/strategicHMM/gaze_data/20/Stormy_matching_2_m21.mat'"
      ]
     },
     "execution_count": 12,
     "metadata": {},
     "output_type": "execute_result"
    }
   ],
   "source": [
    "fileName"
   ]
  },
  {
   "cell_type": "code",
   "execution_count": 23,
   "id": "fifth-selling",
   "metadata": {},
   "outputs": [],
   "source": [
    "allParts = b[0].split('_')\n",
    "allParts.pop(0)\n",
    "newName= userName + '_'+'_'.join(allParts)\n",
    "newFileName = '/Users/xiaominli/Documents/strategicHMM/gaze_data/'+userName+'/'+newName"
   ]
  },
  {
   "cell_type": "code",
   "execution_count": 27,
   "id": "false-story",
   "metadata": {},
   "outputs": [],
   "source": [
    "os.rename(oldFileName,newFileName)"
   ]
  },
  {
   "cell_type": "code",
   "execution_count": 24,
   "id": "opponent-prerequisite",
   "metadata": {},
   "outputs": [
    {
     "data": {
      "text/plain": [
       "'/Users/xiaominli/Documents/strategicHMM/gaze_data/20/20_matching_2_m21.mat'"
      ]
     },
     "execution_count": 24,
     "metadata": {},
     "output_type": "execute_result"
    }
   ],
   "source": [
    "newFileName"
   ]
  },
  {
   "cell_type": "code",
   "execution_count": null,
   "id": "noted-throat",
   "metadata": {},
   "outputs": [],
   "source": []
  }
 ],
 "metadata": {
  "kernelspec": {
   "display_name": "Python 3",
   "language": "python",
   "name": "python3"
  },
  "language_info": {
   "codemirror_mode": {
    "name": "ipython",
    "version": 3
   },
   "file_extension": ".py",
   "mimetype": "text/x-python",
   "name": "python",
   "nbconvert_exporter": "python",
   "pygments_lexer": "ipython3",
   "version": "3.7.3"
  }
 },
 "nbformat": 4,
 "nbformat_minor": 5
}
