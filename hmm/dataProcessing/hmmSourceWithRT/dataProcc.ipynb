{
 "cells": [
  {
   "cell_type": "code",
   "execution_count": 1,
   "metadata": {},
   "outputs": [],
   "source": [
    "import numpy as np\n",
    "import matplotlib.pyplot as plt\n",
    "import hmms"
   ]
  },
  {
   "cell_type": "code",
   "execution_count": 19,
   "metadata": {},
   "outputs": [],
   "source": [
    "with open('matching.csv', mode='r') as csv_file:\n",
    "    content = csv_file.readlines()"
   ]
  },
  {
   "cell_type": "code",
   "execution_count": 20,
   "metadata": {},
   "outputs": [],
   "source": [
    "contentParsed = [[int(splitted.strip()) for splitted in x.split(',')[:-1]] for x in content]"
   ]
  },
  {
   "cell_type": "code",
   "execution_count": 50,
   "metadata": {},
   "outputs": [],
   "source": [
    "data = [np.append([0], np.array([(2 if y == 100 else y) for y in x])) for x in contentParsed[::2]]\n",
    "time = [np.append([-100], np.array(x)) for x in contentParsed[1::2]]"
   ]
  },
  {
   "cell_type": "code",
   "execution_count": 55,
   "metadata": {},
   "outputs": [
    {
     "name": "stdout",
     "output_type": "stream",
     "text": [
      "[array([ 0,  1, -1, -1, -1,  1, -1,  1,  1,  2]), array([ 0, -1, -1,  1,  1,  1,  1, -1, -1,  1, -1,  1,  1,  2]), array([ 0,  1,  1,  1, -1,  1,  2]), array([ 0, -1,  1, -1, -1,  1,  2]), array([0, 1, 2]), array([ 0,  1,  1, -1, -1, -1, -1, -1,  1,  1,  2]), array([ 0,  1, -1, -1,  1,  1,  2]), array([ 0, -1, -1, -1, -1, -1, -1, -1,  1, -1,  1, -1,  2]), array([ 0, -1, -1, -1,  1,  1,  1,  1, -1, -1, -1,  2]), array([ 0,  1,  1, -1, -1,  1,  1, -1,  1,  2]), array([ 0,  1,  1,  1,  1,  1, -1, -1,  1, -1, -1,  2]), array([0, 1, 1, 1, 1, 2]), array([0, 1, 1, 1, 1, 1, 1, 2]), array([ 0,  1, -1, -1,  2]), array([ 0,  1, -1,  1,  1, -1,  1, -1, -1,  1,  1,  2]), array([ 0,  1,  1, -1, -1, -1, -1, -1,  1, -1,  2]), array([ 0, -1,  1, -1,  1, -1,  1,  1, -1, -1,  2]), array([ 0,  1,  1, -1, -1, -1, -1, -1,  1,  2]), array([0, 1, 2]), array([ 0, -1, -1, -1,  1, -1, -1,  1,  2]), array([0, 1, 1, 1, 1, 1, 1, 1, 2]), array([0, 1, 2]), array([ 0,  1,  1,  1,  1, -1,  1, -1,  1,  1,  1,  2]), array([ 0,  1,  1, -1,  1, -1,  1,  2]), array([0, 1, 1, 1, 1, 1, 2]), array([ 0,  1,  1,  1, -1,  1,  2]), array([ 0,  1, -1,  1,  1,  1, -1,  1, -1, -1,  2]), array([0, 1, 2]), array([ 0,  1, -1,  1,  1, -1,  1,  2]), array([0, 1, 1, 1, 1, 2]), array([0, 1, 1, 2]), array([ 0, -1, -1,  1,  1,  2]), array([ 0,  1,  1, -1, -1,  1, -1,  1,  1, -1, -1, -1, -1, -1, -1,  1,  2]), array([ 0,  1,  1,  1,  1,  1,  1, -1,  1,  2]), array([0, 1, 2]), array([0, 1, 1, 1, 1, 1, 2]), array([ 0,  1, -1,  1, -1,  1, -1,  1,  2]), array([0, 1, 2]), array([0, 1, 1, 2]), array([0, 1, 2]), array([0, 1, 1, 2]), array([0, 1, 1, 2]), array([ 0, -1, -1,  1,  2]), array([ 0,  1, -1,  1,  2]), array([0, 1, 2]), array([0, 1, 2]), array([0, 1, 1, 2]), array([0, 1, 1, 2]), array([0, 1, 2]), array([0, 1, 2]), array([0, 1, 2]), array([0, 1, 1, 2]), array([0, 1, 1, 2]), array([0, 1, 1, 2]), array([0, 1, 2]), array([0, 1, 2]), array([0, 1, 2]), array([0, 1, 2]), array([0, 1, 2]), array([ 0, -1,  1,  2]), array([0, 1, 1, 2]), array([0, 1, 2]), array([0, 1, 2]), array([0, 1, 1, 2]), array([0, 1, 2]), array([0, 1, 2]), array([0, 1, 2]), array([0, 1, 2]), array([0, 1, 2]), array([0, 1, 2]), array([0, 1, 2]), array([0, 1, 2]), array([0, 1, 2]), array([0, 1, 2]), array([ 0, -1, -1,  1,  2]), array([0, 1, 1, 1, 1, 2]), array([0, 1, 2]), array([0, 1, 2]), array([0, 1, 1, 1, 2]), array([0, 1, 1, 1, 2]), array([ 0,  1,  1,  1, -1,  1,  1, -1,  1,  2]), array([0, 1, 1, 1, 1, 1, 1, 2]), array([ 0, -1,  2]), array([ 0,  1, -1, -1, -1, -1,  2]), array([ 0,  1,  1,  1, -1,  1, -1, -1,  2]), array([0, 1, 2]), array([ 0,  1, -1, -1,  1, -1,  1,  2]), array([0, 1, 2]), array([ 0,  1, -1,  2]), array([ 0, -1,  1, -1,  2]), array([ 0, -1, -1, -1, -1, -1, -1, -1, -1, -1,  1, -1,  1,  1,  2]), array([ 0, -1,  1, -1, -1, -1,  1, -1,  1,  2]), array([ 0,  1, -1, -1,  1, -1,  1,  2]), array([ 0, -1,  1,  1,  1, -1, -1,  2]), array([ 0,  1, -1,  1,  2]), array([ 0,  1, -1,  1, -1,  1,  2]), array([0, 1, 1, 2]), array([0, 1, 2]), array([0, 1, 1, 2]), array([0, 1, 2]), array([ 0,  1, -1,  1, -1,  1,  1,  2]), array([ 0,  1,  1,  1, -1, -1,  1,  1,  2]), array([0, 1, 1, 1, 2]), array([0, 1, 2]), array([0, 1, 1, 2]), array([ 0,  1,  1,  1, -1,  1,  1,  2]), array([0, 1, 2]), array([ 0,  1, -1,  2]), array([ 0, -1,  1, -1, -1, -1, -1, -1, -1, -1, -1, -1,  1,  1,  2]), array([0, 1, 1, 1, 1, 1, 2]), array([0, 1, 2]), array([0, 1, 1, 1, 1, 1, 2]), array([ 0,  1, -1,  1,  1, -1,  1,  2]), array([0, 1, 1, 2]), array([0, 1, 1, 2]), array([0, 1, 2]), array([0, 1, 1, 1, 1, 2]), array([0, 1, 1, 2]), array([ 0, -1,  1,  1,  1,  2]), array([0, 1, 1, 1, 2]), array([ 0, -1,  2]), array([0, 1, 1, 2]), array([ 0,  1, -1, -1,  2]), array([0, 1, 2]), array([0, 1, 1, 2]), array([0, 1, 1, 2]), array([0, 1, 2]), array([ 0, -1,  1,  2]), array([ 0,  1, -1, -1,  1,  1, -1,  2]), array([ 0,  1, -1,  1,  2]), array([ 0,  1, -1, -1,  1,  2]), array([0, 1, 1, 2]), array([0, 1, 2]), array([0, 1, 1, 2]), array([0, 1, 2]), array([0, 1, 2]), array([0, 1, 1, 2]), array([0, 1, 2]), array([0, 1, 2]), array([0, 1, 1, 2]), array([0, 1, 1, 1, 2]), array([0, 1, 2]), array([0, 1, 2]), array([0, 1, 1, 2]), array([0, 1, 2]), array([0, 1, 2]), array([0, 1, 2]), array([0, 1, 2]), array([0, 1, 2]), array([0, 1, 2]), array([ 0,  1, -1,  1,  1, -1,  1,  2]), array([ 0,  1,  1,  1, -1, -1,  2]), array([0, 1, 1, 1, 2]), array([0, 1, 2]), array([ 0,  1,  1, -1, -1,  1,  2]), array([0, 1, 1, 1, 2]), array([ 0,  1,  1, -1, -1,  1,  1, -1,  1,  1,  2]), array([0, 1, 1, 2]), array([ 0, -1, -1,  2]), array([0, 1, 2]), array([ 0,  1, -1, -1, -1,  2]), array([0, 1, 1, 2]), array([ 0,  1,  1, -1,  1,  2]), array([0, 1, 1, 2]), array([0, 1, 1, 2]), array([ 0,  1, -1, -1,  1, -1,  1, -1,  2]), array([ 0,  1,  1, -1, -1, -1,  2]), array([ 0, -1,  1, -1,  1,  1,  1,  2]), array([ 0,  1,  1,  1, -1, -1,  1, -1,  2]), array([ 0,  1,  1, -1,  1, -1,  1, -1,  2]), array([0, 1, 2]), array([0, 1, 1, 2]), array([0, 1, 2]), array([0, 1, 2]), array([0, 1, 1, 2]), array([0, 1, 2]), array([0, 1, 1, 1, 2]), array([ 0,  1,  1,  1,  1, -1, -1,  2]), array([ 0,  1, -1,  1,  2]), array([ 0,  1, -1,  1,  2]), array([0, 1, 1, 2]), array([0, 1, 2]), array([0, 1, 1, 1, 1, 2]), array([0, 1, 1, 2]), array([0, 1, 1, 2]), array([0, 1, 1, 1, 1, 2]), array([0, 1, 2]), array([0, 1, 1, 2]), array([ 0, -1, -1,  1,  1, -1, -1,  1, -1,  2]), array([0, 1, 1, 1, 1, 2]), array([ 0,  1,  1, -1, -1,  1, -1, -1, -1,  2]), array([0, 1, 2]), array([0, 1, 1, 2]), array([0, 1, 1, 2]), array([0, 1, 1, 2]), array([0, 1, 2]), array([ 0, -1, -1, -1,  2]), array([ 0,  1,  1, -1,  2]), array([ 0, -1,  1,  1,  1, -1,  1,  1, -1, -1,  1, -1, -1,  2]), array([0, 1, 2]), array([ 0,  1,  1,  1, -1, -1,  2]), array([0, 1, 1, 2]), array([0, 1, 1, 1, 2]), array([0, 1, 2]), array([0, 1, 1, 2]), array([ 0,  1, -1,  1, -1,  2]), array([ 0, -1, -1, -1,  2]), array([ 0, -1, -1,  1,  1,  1, -1,  2]), array([0, 1, 2]), array([ 0,  1, -1,  1,  2]), array([0, 1, 2]), array([0, 1, 2]), array([0, 1, 2]), array([0, 1, 2]), array([ 0,  1,  1, -1,  2]), array([ 0,  1, -1,  1,  1,  2]), array([ 0,  1, -1,  1, -1,  2]), array([0, 1, 2]), array([0, 1, 1, 2]), array([ 0,  1,  1, -1,  2]), array([0, 1, 1, 2]), array([0, 1, 2]), array([0, 1, 1, 2]), array([0, 1, 1, 1, 1, 2]), array([0, 1, 1, 2]), array([0, 1, 2]), array([0, 1, 2]), array([ 0,  1,  1, -1, -1,  2]), array([ 0,  1,  1, -1, -1,  1,  2]), array([ 0, -1, -1, -1,  1,  1,  1,  1,  2]), array([ 0,  1,  1, -1, -1,  1, -1,  1,  1,  2]), array([ 0,  1, -1, -1, -1,  1,  2]), array([ 0,  1,  1, -1,  1,  2]), array([0, 1, 1, 2]), array([ 0, -1,  1, -1,  1,  1,  2]), array([ 0, -1,  1, -1, -1, -1,  2]), array([ 0, -1, -1, -1,  1, -1,  1, -1,  2]), array([ 0,  1,  1,  1,  1, -1,  2]), array([ 0, -1,  1, -1,  1,  1,  1, -1,  2]), array([0, 1, 2]), array([ 0,  1, -1,  2]), array([ 0, -1,  1, -1, -1,  1,  1,  1,  1,  1,  1, -1, -1,  2]), array([ 0, -1,  1,  1,  2]), array([ 0,  1,  1, -1,  1,  2]), array([ 0, -1, -1, -1,  1, -1,  2]), array([0, 1, 2]), array([0, 1, 2]), array([ 0,  1, -1,  1,  2]), array([0, 1, 2]), array([0, 1, 1, 2]), array([0, 1, 2]), array([0, 1, 1, 2]), array([ 0, -1,  1, -1, -1,  1,  1,  2]), array([0, 1, 2]), array([ 0, -1, -1, -1,  1, -1,  1,  2]), array([0, 1, 2]), array([0, 1, 2]), array([0, 1, 2]), array([0, 1, 1, 1, 1, 2]), array([ 0,  1,  1, -1, -1, -1,  1,  2]), array([0, 1, 1, 2]), array([0, 1, 1, 2]), array([ 0, -1, -1, -1,  1,  1,  2]), array([ 0, -1,  1,  2]), array([0, 1, 2]), array([ 0,  1, -1, -1,  2]), array([ 0,  1, -1,  1,  1,  2]), array([ 0,  1, -1, -1,  2]), array([0, 1, 2]), array([0, 1, 1, 2]), array([ 0,  1, -1,  1,  2]), array([ 0, -1, -1, -1,  2]), array([ 0,  1, -1,  2]), array([0, 1, 2]), array([ 0,  1,  1, -1,  1,  1,  1,  1,  2]), array([0, 1, 2]), array([0, 1, 2]), array([ 0,  1, -1,  1,  2]), array([0, 1, 1, 1, 2]), array([ 0,  1,  1,  1, -1,  1, -1, -1,  2]), array([ 0,  1, -1,  1, -1,  2]), array([ 0,  1,  1, -1,  2]), array([0, 1, 2]), array([0, 1, 2]), array([0, 1, 2]), array([0, 1, 1, 2]), array([0, 1, 1, 1, 1, 2]), array([0, 1, 2]), array([0, 1, 2]), array([0, 1, 2]), array([ 0,  1, -1,  1,  1,  1,  2]), array([ 0, -1,  1,  1,  1, -1,  2]), array([0, 1, 2]), array([ 0, -1, -1, -1, -1,  2]), array([0, 1, 2]), array([0, 1, 1, 2]), array([0, 1, 1, 2]), array([0, 1, 2]), array([0, 1, 2]), array([0, 1, 2]), array([ 0,  1, -1,  1, -1,  1,  2]), array([0, 1, 1, 1, 2]), array([0, 1, 2]), array([0, 1, 2]), array([0, 1, 1, 1, 2]), array([0, 1, 2]), array([ 0,  1,  1,  1, -1,  2]), array([0, 1, 1, 2]), array([ 0, -1,  1,  1,  1, -1, -1, -1,  2]), array([ 0,  1, -1,  1,  2]), array([0, 1, 2]), array([0, 1, 1, 1, 1, 1, 1, 2]), array([0, 1, 1, 2]), array([ 0,  1, -1,  1,  2]), array([0, 1, 2]), array([ 0, -1,  1,  2]), array([ 0,  1, -1,  2]), array([ 0,  1, -1,  1,  1,  1,  1,  2]), array([0, 1, 1, 1, 2]), array([ 0,  1,  1, -1,  1,  1,  1,  1,  1,  2]), array([0, 1, 2]), array([0, 1, 2]), array([0, 1, 2]), array([0, 1, 2]), array([ 0, -1,  1,  1,  1,  1,  1,  2]), array([0, 1, 2]), array([0, 1, 1, 1, 1, 2]), array([0, 1, 1, 2]), array([0, 1, 1, 1, 1, 1, 1, 2]), array([0, 1, 2]), array([0, 1, 2]), array([0, 1, 2]), array([ 0,  1, -1,  1,  2]), array([0, 1, 2]), array([0, 1, 1, 1, 2]), array([0, 1, 1, 1, 1, 1, 2]), array([0, 1, 2]), array([ 0,  1, -1,  1, -1,  1,  2]), array([0, 1, 2]), array([ 0,  1,  1, -1, -1,  1,  2]), array([0, 1, 2]), array([0, 1, 1, 1, 2]), array([0, 1, 1, 2]), array([0, 1, 1, 1, 1, 1, 2]), array([0, 1, 2]), array([ 0, -1,  2]), array([ 0,  1, -1,  1,  1,  1,  2]), array([ 0,  1,  1, -1,  1,  1, -1,  1,  1,  2]), array([0, 1, 2]), array([0, 1, 2]), array([0, 1, 2]), array([ 0, -1,  1,  2]), array([ 0,  1,  1, -1,  2]), array([ 0,  1, -1,  1,  2]), array([ 0,  1, -1, -1, -1,  1,  2]), array([ 0, -1,  1,  1, -1,  1, -1,  1,  2]), array([0, 1, 2]), array([ 0,  1,  1,  1, -1,  1,  2]), array([0, 1, 2]), array([0, 1, 2]), array([ 0, -1, -1,  2]), array([0, 1, 2]), array([ 0, -1,  1, -1,  2]), array([0, 1, 2]), array([0, 1, 2]), array([0, 1, 2]), array([0, 1, 2]), array([0, 1, 1, 1, 1, 1, 2]), array([0, 1, 2]), array([0, 1, 2]), array([0, 1, 1, 1, 1, 1, 1, 2]), array([0, 1, 1, 2]), array([0, 1, 2]), array([0, 1, 1, 1, 1, 2]), array([ 0,  1, -1, -1,  1,  2]), array([ 0,  1,  1,  1,  1,  1,  1, -1,  2]), array([ 0,  1, -1,  1,  2]), array([ 0,  1, -1, -1,  1,  2]), array([ 0,  1,  1, -1,  1,  1,  2]), array([0, 1, 1, 2]), array([0, 1, 1, 1, 2]), array([ 0, -1, -1, -1,  1,  1, -1, -1,  2]), array([ 0,  1,  1,  1,  1, -1,  1,  1,  2]), array([ 0, -1, -1,  1, -1, -1,  1,  2]), array([0, 1, 1, 1, 1, 1, 1, 1, 2]), array([0, 1, 1, 1, 1, 1, 1, 2]), array([0, 1, 1, 1, 1, 1, 1, 2]), array([ 0, -1, -1, -1,  1,  1, -1,  2]), array([ 0,  1,  1, -1,  2]), array([ 0,  1, -1, -1, -1,  1,  2]), array([ 0, -1, -1, -1,  1, -1,  1,  2]), array([ 0,  1,  1, -1, -1, -1,  1,  1,  1,  1, -1,  2]), array([ 0,  1,  1,  1,  1,  1, -1, -1,  1,  2]), array([0, 1, 1, 1, 2]), array([ 0,  1,  1, -1,  2]), array([0, 1, 1, 2]), array([0, 1, 1, 2]), array([ 0,  1, -1,  1,  2]), array([0, 1, 2]), array([ 0,  1,  1, -1, -1,  2]), array([0, 1, 2]), array([ 0, -1,  1,  1,  2]), array([0, 1, 1, 2]), array([0, 1, 2]), array([ 0, -1,  2]), array([ 0,  1,  1, -1,  2]), array([ 0, -1,  2]), array([ 0, -1, -1,  1, -1,  2]), array([ 0, -1, -1,  1,  1,  1,  1,  2]), array([0, 1, 1, 1, 2]), array([0, 1, 1, 1, 1, 2]), array([ 0, -1,  1,  1,  1, -1,  1,  1, -1, -1, -1,  2]), array([0, 1, 2]), array([0, 1, 2]), array([ 0, -1,  1, -1,  1,  1,  1,  2]), array([ 0,  1, -1,  1,  2]), array([0, 1, 1, 1, 1, 1, 2]), array([0, 1, 1, 1, 2]), array([ 0,  1, -1, -1, -1, -1,  1,  2]), array([ 0, -1,  1, -1, -1,  2]), array([ 0,  1, -1, -1,  1, -1,  2]), array([ 0,  1, -1,  1,  1, -1,  1, -1, -1, -1,  2]), array([0, 1, 1, 1, 1, 2]), array([0, 1, 1, 1, 2]), array([ 0,  1,  1, -1,  1,  1,  1, -1,  1,  2]), array([ 0,  1,  1, -1,  1,  1,  1, -1, -1, -1, -1,  2]), array([ 0, -1, -1, -1, -1, -1, -1, -1, -1,  2]), array([ 0, -1,  1,  1,  1,  1,  2]), array([ 0, -1,  1, -1, -1, -1,  1, -1,  2]), array([ 0,  1, -1, -1, -1, -1,  1,  1, -1, -1,  2]), array([ 0,  1,  1,  1, -1,  1,  2]), array([ 0,  1, -1,  1,  1,  1,  2]), array([0, 1, 2]), array([0, 1, 2]), array([ 0,  1, -1,  2]), array([ 0,  1, -1,  1,  2]), array([0, 1, 2]), array([0, 1, 1, 1, 1, 1, 1, 2]), array([ 0,  1,  1, -1,  1,  1,  1,  2]), array([ 0, -1, -1,  1,  1, -1, -1,  2]), array([0, 1, 1, 1, 2]), array([0, 1, 1, 1, 1, 1, 1, 1, 2]), array([0, 1, 1, 1, 1, 1, 2]), array([0, 1, 1, 1, 2]), array([ 0,  1, -1, -1,  1,  1,  1,  2]), array([ 0,  1,  1, -1,  1,  2]), array([0, 1, 2]), array([0, 1, 1, 1, 1, 2]), array([ 0,  1, -1,  1,  1, -1,  1, -1,  1,  2]), array([0, 1, 2]), array([0, 1, 2]), array([0, 1, 2]), array([0, 1, 1, 2]), array([0, 1, 1, 1, 1, 2]), array([ 0,  1,  1,  1,  1, -1, -1,  2]), array([0, 1, 1, 1, 1, 2]), array([ 0, -1, -1, -1, -1, -1, -1,  2]), array([ 0,  1, -1,  1,  1,  1, -1,  1,  1,  2]), array([ 0,  1, -1,  1,  1,  2]), array([ 0,  1,  1, -1,  1,  1,  2]), array([0, 1, 1, 1, 1, 1, 1, 1, 2]), array([0, 1, 2]), array([ 0, -1,  1,  2]), array([ 0,  1,  1,  1, -1, -1,  2]), array([ 0,  1, -1, -1, -1,  1,  1, -1,  1,  2]), array([ 0,  1,  1,  1, -1,  2]), array([ 0,  1, -1, -1,  1,  2]), array([ 0,  1, -1,  1,  1,  1,  1,  1,  1,  2]), array([0, 1, 1, 1, 2]), array([0, 1, 1, 1, 2]), array([0, 1, 1, 1, 2]), array([0, 1, 2]), array([0, 1, 1, 1, 1, 2]), array([0, 1, 1, 1, 2]), array([0, 1, 1, 1, 2]), array([0, 1, 1, 1, 2]), array([ 0,  1, -1,  1,  1,  1,  1, -1,  1,  1,  2]), array([0, 1, 2]), array([0, 1, 1, 1, 2]), array([ 0,  1, -1,  1,  1,  2]), array([0, 1, 2]), array([0, 1, 2]), array([ 0,  1,  1, -1, -1, -1,  1,  1,  1,  1,  2]), array([0, 1, 1, 1, 1, 1, 1, 1, 1, 2]), array([ 0,  1, -1,  2]), array([0, 1, 1, 1, 1, 1, 1, 2]), array([ 0,  1, -1,  1, -1,  2]), array([0, 1, 1, 1, 2]), array([0, 1, 1, 2]), array([0, 1, 1, 2]), array([0, 1, 2]), array([ 0,  1, -1,  1,  2]), array([0, 1, 1, 1, 1, 2]), array([ 0, -1,  1,  1,  2]), array([ 0, -1, -1, -1, -1,  2]), array([0, 1, 1, 2]), array([0, 1, 2]), array([0, 1, 1, 1, 1, 2]), array([0, 1, 1, 1, 2]), array([0, 1, 2]), array([ 0,  1, -1, -1,  2]), array([ 0, -1, -1,  2]), array([ 0,  1, -1, -1,  1, -1, -1, -1, -1,  2]), array([ 0,  1, -1,  1,  2]), array([0, 1, 2]), array([ 0,  1,  1,  1, -1,  1,  1, -1,  2]), array([0, 1, 2]), array([ 0,  1, -1,  2]), array([0, 1, 2]), array([0, 1, 2]), array([0, 1, 1, 2]), array([0, 1, 2]), array([0, 1, 1, 2]), array([ 0,  1, -1,  1, -1, -1,  1,  1,  1,  2]), array([0, 1, 2]), array([0, 1, 1, 2]), array([ 0,  1, -1,  1,  1,  2]), array([ 0,  1, -1,  2]), array([0, 1, 1, 2]), array([ 0,  1,  1, -1,  1,  1,  2]), array([ 0,  1, -1,  2]), array([ 0,  1, -1,  1,  1, -1, -1,  1, -1,  2]), array([0, 1, 2]), array([0, 1, 2]), array([ 0, -1,  1,  2]), array([ 0,  1,  1, -1, -1,  2]), array([ 0,  1, -1,  2]), array([ 0,  1, -1, -1, -1,  1, -1, -1, -1,  1,  2]), array([ 0,  1,  1,  1,  1, -1, -1,  2]), array([ 0,  1,  1,  1, -1, -1,  2]), array([ 0,  1, -1,  1, -1,  2]), array([ 0,  1, -1, -1,  2]), array([ 0,  1, -1,  1,  1,  2]), array([0, 1, 1, 1, 1, 2]), array([ 0,  1, -1,  1, -1,  1,  2]), array([ 0,  1, -1,  1, -1,  1, -1,  2]), array([ 0,  1,  1, -1, -1,  1,  1,  2]), array([ 0,  1, -1,  1,  2]), array([ 0,  1,  1, -1, -1, -1,  2]), array([ 0, -1, -1, -1,  1,  1,  2]), array([ 0,  1, -1, -1,  2]), array([ 0,  1, -1,  1,  2]), array([ 0, -1, -1, -1, -1,  2]), array([ 0,  1, -1,  2]), array([0, 1, 2]), array([0, 1, 1, 1, 2]), array([0, 1, 1, 2]), array([ 0,  1, -1, -1,  1, -1,  2]), array([ 0,  1, -1,  1,  2]), array([0, 1, 1, 1, 2]), array([0, 1, 1, 1, 2]), array([ 0,  1, -1,  1,  2]), array([0, 1, 1, 1, 1, 2]), array([0, 1, 1, 1, 2]), array([0, 1, 1, 1, 2]), array([0, 1, 2]), array([0, 1, 1, 1, 2]), array([0, 1, 1, 2]), array([0, 1, 1, 1, 1, 2]), array([0, 1, 2]), array([0, 1, 1, 1, 2]), array([0, 1, 1, 1, 1, 2]), array([ 0,  1, -1,  1, -1,  1,  2]), array([0, 1, 1, 2]), array([0, 1, 1, 2]), array([ 0,  1,  1, -1, -1,  2]), array([ 0, -1,  1,  2]), array([ 0,  1,  1, -1, -1, -1, -1, -1,  2]), array([ 0,  1,  1,  1, -1, -1, -1, -1,  2]), array([ 0, -1, -1, -1,  2]), array([ 0,  1, -1,  2]), array([ 0, -1, -1,  2]), array([0, 1, 1, 1, 2]), array([0, 1, 2]), array([0, 1, 1, 2]), array([ 0,  1, -1,  2]), array([ 0,  1, -1, -1,  2]), array([0, 1, 2]), array([ 0, -1, -1,  2]), array([ 0,  1, -1,  2]), array([ 0,  1,  1, -1,  2]), array([ 0, -1,  1, -1,  2]), array([ 0, -1,  1, -1, -1,  1, -1,  2]), array([ 0,  1, -1, -1, -1,  2]), array([ 0,  1,  1, -1,  1,  2]), array([ 0, -1,  1, -1,  1, -1, -1, -1, -1,  2]), array([ 0, -1,  2]), array([ 0, -1,  1,  1, -1,  2]), array([0, 1, 2]), array([ 0, -1, -1,  1,  1, -1, -1,  1,  1,  2]), array([0, 1, 1, 1, 2]), array([ 0, -1,  1,  1,  1,  1, -1,  1,  1,  1,  2]), array([ 0,  1, -1, -1,  1,  1,  2]), array([ 0,  1,  1,  1,  1,  1, -1,  2]), array([0, 1, 1, 1, 2]), array([ 0,  1,  1,  1, -1,  2]), array([ 0,  1,  1, -1,  2]), array([0, 1, 1, 1, 2]), array([ 0,  1,  1,  1, -1,  1, -1, -1,  2]), array([0, 1, 1, 1, 1, 1, 1, 2]), array([ 0, -1,  1,  1, -1,  1,  1,  2]), array([0, 1, 1, 1, 2]), array([0, 1, 1, 2]), array([0, 1, 2]), array([0, 1, 1, 1, 1, 2]), array([0, 1, 1, 2]), array([0, 1, 1, 2]), array([0, 1, 2]), array([ 0, -1, -1, -1,  2]), array([ 0, -1,  1,  1,  2]), array([ 0,  1,  1, -1,  1,  2]), array([0, 1, 1, 2]), array([0, 1, 1, 2]), array([0, 1, 2]), array([0, 1, 1, 1, 1, 2]), array([0, 1, 1, 1, 2]), array([0, 1, 1, 2]), array([ 0, -1,  1, -1,  2]), array([0, 1, 2]), array([ 0,  1,  1, -1,  2]), array([0, 1, 2]), array([0, 1, 2]), array([0, 1, 2]), array([0, 1, 2]), array([0, 1, 1, 2]), array([0, 1, 2]), array([0, 1, 2]), array([0, 1, 2]), array([ 0, -1,  1,  1,  2]), array([0, 1, 2]), array([0, 1, 1, 2]), array([0, 1, 1, 1, 2]), array([0, 1, 2]), array([0, 1, 2]), array([0, 1, 2]), array([0, 1, 1, 1, 2]), array([0, 1, 2]), array([0, 1, 2]), array([0, 1, 1, 2]), array([0, 1, 1, 1, 1, 1, 2]), array([0, 1, 2]), array([0, 1, 2]), array([0, 1, 1, 2]), array([0, 1, 1, 1, 1, 1, 1, 2]), array([ 0, -1,  1,  2]), array([0, 1, 1, 1, 2]), array([ 0,  1, -1,  2]), array([0, 1, 1, 2]), array([ 0,  1,  1, -1,  1, -1,  2]), array([0, 1, 1, 1, 2]), array([0, 1, 1, 1, 1, 1, 1, 2]), array([0, 1, 1, 2]), array([0, 1, 2]), array([ 0,  1,  1, -1, -1,  1,  2]), array([ 0,  1, -1,  1,  1,  2]), array([ 0,  1, -1, -1, -1,  1,  2]), array([ 0,  1, -1,  1,  2]), array([0, 1, 1, 2]), array([ 0,  1,  1, -1,  2]), array([0, 1, 1, 2]), array([0, 1, 2]), array([0, 1, 2]), array([0, 1, 2]), array([0, 1, 2]), array([0, 1, 1, 1, 1, 1, 2]), array([ 0,  1,  1,  1, -1,  1,  1,  2]), array([0, 1, 1, 2]), array([0, 1, 2]), array([0, 1, 2]), array([0, 1, 1, 2]), array([0, 1, 2]), array([ 0,  1, -1,  1, -1,  2]), array([ 0,  1, -1,  2]), array([0, 1, 1, 1, 1, 2]), array([0, 1, 2]), array([0, 1, 1, 1, 1, 1, 2]), array([ 0,  1, -1,  1,  1, -1,  1,  1,  2]), array([0, 1, 2]), array([0, 1, 2]), array([0, 1, 2]), array([0, 1, 2]), array([0, 1, 2]), array([0, 1, 1, 2]), array([0, 1, 1, 2]), array([ 0,  1, -1,  1, -1,  2]), array([0, 1, 2]), array([0, 1, 2]), array([0, 1, 1, 1, 1, 2]), array([0, 1, 2]), array([0, 1, 2]), array([ 0,  1, -1,  2]), array([0, 1, 2]), array([0, 1, 1, 2]), array([ 0,  1, -1,  1,  2]), array([0, 1, 2]), array([0, 1, 2]), array([0, 1, 2]), array([0, 1, 1, 2]), array([0, 1, 2]), array([0, 1, 2]), array([0, 1, 2]), array([0, 1, 2]), array([0, 1, 2]), array([0, 1, 2]), array([0, 1, 2]), array([0, 1, 2]), array([0, 1, 2]), array([0, 1, 2]), array([0, 1, 2]), array([0, 1, 2]), array([0, 1, 2]), array([0, 1, 2]), array([0, 1, 2]), array([0, 1, 2]), array([0, 1, 2]), array([0, 1, 2]), array([0, 1, 1, 2]), array([0, 1, 2]), array([0, 1, 1, 2]), array([0, 1, 2]), array([0, 1, 1, 1, 1, 1, 2]), array([ 0, -1,  1,  2]), array([ 0,  1, -1,  2]), array([0, 1, 1, 2]), array([0, 1, 2]), array([0, 1, 1, 2]), array([0, 1, 2]), array([0, 1, 2]), array([0, 1, 2]), array([ 0, -1,  2]), array([ 0,  1, -1,  2]), array([ 0, -1,  1,  2]), array([ 0,  1, -1,  1,  2]), array([0, 1, 1, 1, 2]), array([0, 1, 2]), array([0, 1, 2]), array([ 0,  1, -1, -1, -1, -1, -1,  1,  2]), array([0, 1, 1, 2]), array([ 0,  1, -1,  2]), array([0, 1, 2]), array([0, 1, 2]), array([0, 1, 2]), array([0, 1, 1, 1, 2]), array([0, 1, 2]), array([0, 1, 2]), array([0, 1, 2]), array([0, 1, 2]), array([0, 1, 2]), array([0, 1, 2]), array([0, 1, 1, 2]), array([0, 1, 2]), array([0, 1, 2]), array([0, 1, 1, 2]), array([0, 1, 1, 1, 2]), array([0, 1, 1, 2]), array([0, 1, 2]), array([0, 1, 1, 1, 2]), array([0, 1, 1, 1, 1, 2]), array([ 0,  1,  1, -1,  1,  1,  1,  2]), array([0, 1, 2]), array([ 0, -1,  2]), array([ 0,  1,  1,  1, -1, -1,  1,  1, -1,  2]), array([ 0,  1, -1, -1,  2]), array([0, 1, 2]), array([0, 1, 1, 2]), array([0, 1, 2]), array([0, 1, 1, 2]), array([0, 1, 1, 2]), array([ 0,  1, -1,  1, -1, -1, -1,  1,  2]), array([ 0,  1, -1,  1, -1,  1, -1, -1,  2]), array([ 0,  1, -1, -1, -1,  1,  2]), array([0, 1, 1, 2]), array([0, 1, 2]), array([0, 1, 2]), array([0, 1, 2]), array([0, 1, 1, 2]), array([0, 1, 1, 2]), array([0, 1, 2]), array([0, 1, 1, 1, 1, 1, 1, 2]), array([0, 1, 1, 1, 2]), array([0, 1, 1, 2]), array([0, 1, 2]), array([0, 1, 2]), array([ 0,  1, -1,  1,  1,  2]), array([0, 1, 2]), array([0, 1, 2]), array([0, 1, 1, 1, 2]), array([0, 1, 1, 1, 1, 1, 2]), array([0, 1, 2]), array([0, 1, 2]), array([ 0,  1, -1,  2]), array([0, 1, 1, 1, 1, 2]), array([0, 1, 2]), array([ 0,  1, -1,  1,  2]), array([ 0, -1,  1,  1,  1,  1,  1,  1,  1, -1, -1,  2]), array([ 0,  1, -1,  1,  2]), array([ 0, -1,  1,  1, -1,  2]), array([ 0, -1, -1, -1,  1,  1, -1,  2]), array([ 0,  1, -1, -1,  1,  2]), array([ 0, -1,  1,  1,  1,  1, -1,  2]), array([ 0, -1, -1, -1, -1, -1,  1, -1,  2]), array([ 0, -1,  1,  1,  1,  2]), array([ 0,  1, -1,  1,  1,  2]), array([0, 1, 2]), array([0, 1, 1, 1, 2]), array([ 0, -1,  1, -1,  2]), array([ 0, -1,  1, -1,  1,  1, -1, -1,  2]), array([ 0,  1, -1,  1, -1,  2]), array([ 0,  1,  1, -1,  1,  1,  1, -1, -1,  1, -1,  2]), array([0, 1, 1, 2]), array([ 0,  1, -1,  1,  2]), array([0, 1, 2]), array([0, 1, 2]), array([ 0,  1,  1, -1, -1,  1,  1,  1, -1,  1,  2]), array([0, 1, 2]), array([0, 1, 1, 2]), array([ 0, -1,  1, -1,  1,  1,  1,  1,  1,  1,  1,  2]), array([0, 1, 1, 1, 1, 1, 1, 1, 2]), array([ 0, -1,  1,  1,  1, -1,  2]), array([0, 1, 1, 2]), array([ 0,  1, -1,  1,  1,  2]), array([0, 1, 1, 1, 1, 1, 2]), array([ 0, -1,  1, -1,  1,  2]), array([0, 1, 1, 1, 1, 2]), array([ 0,  1, -1,  1,  1,  1,  1,  2]), array([0, 1, 2]), array([0, 1, 1, 1, 1, 1, 1, 1, 2]), array([0, 1, 1, 2]), array([0, 1, 2]), array([ 0,  1,  1, -1, -1,  1,  2]), array([0, 1, 2]), array([0, 1, 1, 1, 2]), array([0, 1, 1, 2]), array([0, 1, 1, 1, 2]), array([ 0,  1, -1,  2]), array([ 0, -1,  2]), array([ 0,  1,  1, -1,  2]), array([0, 1, 2]), array([0, 1, 2]), array([0, 1, 2]), array([0, 1, 2]), array([0, 1, 1, 2]), array([ 0,  1, -1,  1,  2]), array([ 0,  1,  1, -1, -1, -1,  1,  2]), array([0, 1, 2]), array([0, 1, 1, 2]), array([ 0,  1,  1,  1, -1,  1, -1,  1,  2]), array([0, 1, 2]), array([ 0, -1,  1,  2]), array([0, 1, 1, 2]), array([0, 1, 2]), array([0, 1, 1, 1, 2]), array([0, 1, 2]), array([0, 1, 2]), array([ 0,  1, -1,  1,  2]), array([0, 1, 1, 1, 2]), array([0, 1, 2]), array([0, 1, 1, 2]), array([0, 1, 1, 2]), array([0, 1, 2]), array([0, 1, 2]), array([0, 1, 2]), array([ 0,  1, -1,  1,  1,  1,  2]), array([0, 1, 2]), array([0, 1, 2]), array([ 0,  1, -1,  1,  1, -1,  1,  1,  2]), array([0, 1, 2]), array([0, 1, 1, 2]), array([0, 1, 2]), array([ 0,  1,  1,  1, -1, -1, -1,  1,  2]), array([0, 1, 1, 2]), array([ 0,  1, -1,  1,  2]), array([ 0,  1,  1, -1,  1,  2]), array([ 0, -1, -1,  2]), array([ 0, -1,  1,  1,  1,  2]), array([ 0, -1,  2]), array([0, 1, 1, 2]), array([0, 1, 1, 1, 1, 1, 2]), array([0, 1, 1, 2]), array([0, 1, 1, 1, 1, 2]), array([0, 1, 1, 2]), array([ 0,  1,  1, -1, -1, -1, -1,  2]), array([ 0,  1, -1,  1, -1,  1,  2]), array([ 0,  1,  1, -1, -1, -1,  1,  2]), array([ 0, -1,  1,  1, -1,  1, -1, -1, -1, -1,  2]), array([0, 1, 2]), array([0, 1, 1, 1, 2]), array([0, 1, 1, 1, 2]), array([0, 1, 2]), array([0, 1, 1, 2]), array([0, 1, 2]), array([0, 1, 1, 2]), array([ 0,  1, -1, -1,  1,  1,  2]), array([0, 1, 1, 1, 1, 1, 2]), array([ 0,  1,  1,  1, -1,  1, -1, -1,  1,  1,  1,  2]), array([ 0,  1,  1,  1,  1, -1,  1,  2]), array([ 0,  1,  1,  1,  1, -1,  1,  1,  1,  1,  2]), array([0, 1, 1, 2]), array([ 0,  1,  1, -1,  1,  2]), array([0, 1, 1, 1, 2]), array([0, 1, 1, 1, 1, 1, 1, 2]), array([0, 1, 2]), array([0, 1, 1, 1, 1, 1, 1, 2]), array([ 0,  1,  1, -1,  1,  2])]\n"
     ]
    }
   ],
   "source": [
    "print(data)"
   ]
  },
  {
   "cell_type": "code",
   "execution_count": 59,
   "metadata": {},
   "outputs": [
    {
     "name": "stdout",
     "output_type": "stream",
     "text": [
      "iteration  5 / 50\n",
      "iteration  4 / 50\n",
      "iteration  4 / 50\n",
      "iteration  4 / 50\n",
      "iteration  4 / 50\n",
      "iteration  4 / 50\n",
      "iteration  4 / 50\n",
      "iteration  4 / 50\n",
      "iteration  4 / 50\n",
      "iteration  4 / 50\n",
      "iteration  4 / 50\n",
      "iteration  4 / 50\n",
      "iteration  4 / 50\n",
      "iteration  4 / 50\n",
      "iteration  4 / 50\n",
      "iteration  4 / 50\n",
      "iteration  4 / 50\n",
      "iteration  4 / 50\n",
      "iteration  4 / 50\n",
      "iteration  4 / 50\n",
      "iteration  4 / 50\n",
      "iteration  4 / 50\n",
      "iteration  4 / 50\n",
      "iteration  4 / 50\n",
      "iteration  4 / 50\n",
      "iteration  4 / 50\n",
      "iteration  4 / 50\n",
      "iteration  4 / 50\n",
      "iteration  4 / 50\n",
      "iteration  4 / 50\n",
      "iteration  4 / 50\n",
      "iteration  4 / 50\n",
      "iteration  4 / 50\n",
      "iteration  4 / 50\n",
      "iteration  4 / 50\n",
      "iteration  4 / 50\n",
      "iteration  4 / 50\n",
      "iteration  4 / 50\n",
      "iteration  4 / 50\n",
      "iteration  4 / 50\n",
      "iteration  4 / 50\n",
      "iteration  4 / 50\n",
      "iteration  4 / 50\n",
      "iteration  4 / 50\n",
      "iteration  4 / 50\n",
      "iteration  4 / 50\n",
      "iteration  4 / 50\n",
      "iteration  4 / 50\n",
      "iteration  4 / 50\n",
      "iteration  4 / 50\n"
     ]
    },
    {
     "data": {
      "text/plain": [
       "0.0"
      ]
     },
     "execution_count": 59,
     "metadata": {},
     "output_type": "execute_result"
    }
   ],
   "source": [
    "chmm_r = hmms.CtHMM.random(4,4)\n",
    "#chmm.set_params(Q,B,Pi)\n",
    "graph_n = chmm_r.baum_welch( time, data, 50, est=True ) \n",
    "np.exp( chmm_r.data_estimate(time, data) )"
   ]
  },
  {
   "cell_type": "code",
   "execution_count": 60,
   "metadata": {},
   "outputs": [
    {
     "name": "stdout",
     "output_type": "stream",
     "text": [
      "Initial probabilities (π) :\n"
     ]
    },
    {
     "data": {
      "text/html": [
       "<div>\n",
       "<style scoped>\n",
       "    .dataframe tbody tr th:only-of-type {\n",
       "        vertical-align: middle;\n",
       "    }\n",
       "\n",
       "    .dataframe tbody tr th {\n",
       "        vertical-align: top;\n",
       "    }\n",
       "\n",
       "    .dataframe thead th {\n",
       "        text-align: right;\n",
       "    }\n",
       "</style>\n",
       "<table border=\"1\" class=\"dataframe\">\n",
       "  <thead>\n",
       "    <tr style=\"text-align: right;\">\n",
       "      <th></th>\n",
       "      <th>0</th>\n",
       "    </tr>\n",
       "  </thead>\n",
       "  <tbody>\n",
       "    <tr>\n",
       "      <th>0</th>\n",
       "      <td>0.0</td>\n",
       "    </tr>\n",
       "    <tr>\n",
       "      <th>1</th>\n",
       "      <td>0.0</td>\n",
       "    </tr>\n",
       "    <tr>\n",
       "      <th>2</th>\n",
       "      <td>0.0</td>\n",
       "    </tr>\n",
       "    <tr>\n",
       "      <th>3</th>\n",
       "      <td>1.0</td>\n",
       "    </tr>\n",
       "  </tbody>\n",
       "</table>\n",
       "</div>"
      ],
      "text/plain": [
       "     0\n",
       "0  0.0\n",
       "1  0.0\n",
       "2  0.0\n",
       "3  1.0"
      ]
     },
     "metadata": {},
     "output_type": "display_data"
    },
    {
     "name": "stdout",
     "output_type": "stream",
     "text": [
      "Transition rate matrix (Q):\n"
     ]
    },
    {
     "data": {
      "text/html": [
       "<div>\n",
       "<style scoped>\n",
       "    .dataframe tbody tr th:only-of-type {\n",
       "        vertical-align: middle;\n",
       "    }\n",
       "\n",
       "    .dataframe tbody tr th {\n",
       "        vertical-align: top;\n",
       "    }\n",
       "\n",
       "    .dataframe thead th {\n",
       "        text-align: right;\n",
       "    }\n",
       "</style>\n",
       "<table border=\"1\" class=\"dataframe\">\n",
       "  <thead>\n",
       "    <tr style=\"text-align: right;\">\n",
       "      <th></th>\n",
       "      <th>0</th>\n",
       "      <th>1</th>\n",
       "      <th>2</th>\n",
       "      <th>3</th>\n",
       "    </tr>\n",
       "  </thead>\n",
       "  <tbody>\n",
       "    <tr>\n",
       "      <th>0</th>\n",
       "      <td>-0.999963</td>\n",
       "      <td>0.114662</td>\n",
       "      <td>0.597695</td>\n",
       "      <td>0.287606</td>\n",
       "    </tr>\n",
       "    <tr>\n",
       "      <th>1</th>\n",
       "      <td>0.358284</td>\n",
       "      <td>-0.999962</td>\n",
       "      <td>0.475353</td>\n",
       "      <td>0.166325</td>\n",
       "    </tr>\n",
       "    <tr>\n",
       "      <th>2</th>\n",
       "      <td>0.341291</td>\n",
       "      <td>0.346751</td>\n",
       "      <td>-0.999966</td>\n",
       "      <td>0.311925</td>\n",
       "    </tr>\n",
       "    <tr>\n",
       "      <th>3</th>\n",
       "      <td>0.308027</td>\n",
       "      <td>0.317444</td>\n",
       "      <td>0.374664</td>\n",
       "      <td>-1.000135</td>\n",
       "    </tr>\n",
       "  </tbody>\n",
       "</table>\n",
       "</div>"
      ],
      "text/plain": [
       "          0         1         2         3\n",
       "0 -0.999963  0.114662  0.597695  0.287606\n",
       "1  0.358284 -0.999962  0.475353  0.166325\n",
       "2  0.341291  0.346751 -0.999966  0.311925\n",
       "3  0.308027  0.317444  0.374664 -1.000135"
      ]
     },
     "metadata": {},
     "output_type": "display_data"
    },
    {
     "name": "stdout",
     "output_type": "stream",
     "text": [
      "Transition probabilities for one time unit :\n"
     ]
    },
    {
     "data": {
      "text/html": [
       "<div>\n",
       "<style scoped>\n",
       "    .dataframe tbody tr th:only-of-type {\n",
       "        vertical-align: middle;\n",
       "    }\n",
       "\n",
       "    .dataframe tbody tr th {\n",
       "        vertical-align: top;\n",
       "    }\n",
       "\n",
       "    .dataframe thead th {\n",
       "        text-align: right;\n",
       "    }\n",
       "</style>\n",
       "<table border=\"1\" class=\"dataframe\">\n",
       "  <thead>\n",
       "    <tr style=\"text-align: right;\">\n",
       "      <th></th>\n",
       "      <th>0</th>\n",
       "      <th>1</th>\n",
       "      <th>2</th>\n",
       "      <th>3</th>\n",
       "    </tr>\n",
       "  </thead>\n",
       "  <tbody>\n",
       "    <tr>\n",
       "      <th>0</th>\n",
       "      <td>0.448009</td>\n",
       "      <td>0.111206</td>\n",
       "      <td>0.281005</td>\n",
       "      <td>0.159780</td>\n",
       "    </tr>\n",
       "    <tr>\n",
       "      <th>1</th>\n",
       "      <td>0.192019</td>\n",
       "      <td>0.431744</td>\n",
       "      <td>0.253051</td>\n",
       "      <td>0.123186</td>\n",
       "    </tr>\n",
       "    <tr>\n",
       "      <th>2</th>\n",
       "      <td>0.186948</td>\n",
       "      <td>0.171652</td>\n",
       "      <td>0.479621</td>\n",
       "      <td>0.161780</td>\n",
       "    </tr>\n",
       "    <tr>\n",
       "      <th>3</th>\n",
       "      <td>0.178054</td>\n",
       "      <td>0.164912</td>\n",
       "      <td>0.225363</td>\n",
       "      <td>0.431672</td>\n",
       "    </tr>\n",
       "  </tbody>\n",
       "</table>\n",
       "</div>"
      ],
      "text/plain": [
       "          0         1         2         3\n",
       "0  0.448009  0.111206  0.281005  0.159780\n",
       "1  0.192019  0.431744  0.253051  0.123186\n",
       "2  0.186948  0.171652  0.479621  0.161780\n",
       "3  0.178054  0.164912  0.225363  0.431672"
      ]
     },
     "metadata": {},
     "output_type": "display_data"
    },
    {
     "name": "stdout",
     "output_type": "stream",
     "text": [
      "Emission probabilities matrix (B):\n"
     ]
    },
    {
     "data": {
      "text/html": [
       "<div>\n",
       "<style scoped>\n",
       "    .dataframe tbody tr th:only-of-type {\n",
       "        vertical-align: middle;\n",
       "    }\n",
       "\n",
       "    .dataframe tbody tr th {\n",
       "        vertical-align: top;\n",
       "    }\n",
       "\n",
       "    .dataframe thead th {\n",
       "        text-align: right;\n",
       "    }\n",
       "</style>\n",
       "<table border=\"1\" class=\"dataframe\">\n",
       "  <thead>\n",
       "    <tr style=\"text-align: right;\">\n",
       "      <th></th>\n",
       "      <th>0</th>\n",
       "      <th>1</th>\n",
       "      <th>2</th>\n",
       "      <th>3</th>\n",
       "    </tr>\n",
       "  </thead>\n",
       "  <tbody>\n",
       "    <tr>\n",
       "      <th>0</th>\n",
       "      <td>0.000000</td>\n",
       "      <td>0.946193</td>\n",
       "      <td>0.011293</td>\n",
       "      <td>0.042514</td>\n",
       "    </tr>\n",
       "    <tr>\n",
       "      <th>1</th>\n",
       "      <td>0.000000</td>\n",
       "      <td>0.401677</td>\n",
       "      <td>0.487829</td>\n",
       "      <td>0.110493</td>\n",
       "    </tr>\n",
       "    <tr>\n",
       "      <th>2</th>\n",
       "      <td>0.000000</td>\n",
       "      <td>0.335503</td>\n",
       "      <td>0.248899</td>\n",
       "      <td>0.415598</td>\n",
       "    </tr>\n",
       "    <tr>\n",
       "      <th>3</th>\n",
       "      <td>0.925034</td>\n",
       "      <td>0.031853</td>\n",
       "      <td>0.035255</td>\n",
       "      <td>0.007857</td>\n",
       "    </tr>\n",
       "  </tbody>\n",
       "</table>\n",
       "</div>"
      ],
      "text/plain": [
       "          0         1         2         3\n",
       "0  0.000000  0.946193  0.011293  0.042514\n",
       "1  0.000000  0.401677  0.487829  0.110493\n",
       "2  0.000000  0.335503  0.248899  0.415598\n",
       "3  0.925034  0.031853  0.035255  0.007857"
      ]
     },
     "metadata": {},
     "output_type": "display_data"
    }
   ],
   "source": [
    "hmms.print_parameters(chmm_r)"
   ]
  }
 ],
 "metadata": {
  "kernelspec": {
   "display_name": "Python 3",
   "language": "python",
   "name": "python3"
  },
  "language_info": {
   "codemirror_mode": {
    "name": "ipython",
    "version": 3
   },
   "file_extension": ".py",
   "mimetype": "text/x-python",
   "name": "python",
   "nbconvert_exporter": "python",
   "pygments_lexer": "ipython3",
   "version": "3.7.3"
  }
 },
 "nbformat": 4,
 "nbformat_minor": 2
}
